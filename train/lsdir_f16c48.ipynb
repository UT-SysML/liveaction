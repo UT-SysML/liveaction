{
 "cells": [
  {
   "cell_type": "markdown",
   "id": "02930ff0-e01d-46b8-b172-62b8b198e768",
   "metadata": {},
   "source": [
    "# RGB Training Example"
   ]
  },
  {
   "cell_type": "code",
   "execution_count": 1,
   "id": "1418d00f-0a93-4e56-856f-42bb74cf8cde",
   "metadata": {},
   "outputs": [],
   "source": [
    "import os; os.environ[\"PYTORCH_CUDA_ALLOC_CONF\"] = \"garbage_collection_threshold:0.5\"\n",
    "import io, time, torch, datasets, PIL.Image, numpy as np, matplotlib.pyplot as plt, fastprogress, IPython.display\n",
    "from einops.layers.torch import Rearrange\n",
    "from types import SimpleNamespace\n",
    "from typing import OrderedDict\n",
    "from torchvision.transforms.v2.functional import pil_to_tensor, to_pil_image\n",
    "from torchvision.transforms import Compose, Resize, RandomCrop, CenterCrop, ColorJitter\n",
    "from livecodec.codec import AutoCodecND, latent_to_pil, pil_to_latent\n",
    "from timm.optim import Adan"
   ]
  },
  {
   "cell_type": "code",
   "execution_count": 2,
   "id": "eaa40047-fdcb-490b-8a6c-2cab527cd6ae",
   "metadata": {},
   "outputs": [
    {
     "data": {
      "application/vnd.jupyter.widget-view+json": {
       "model_id": "d2e48d93d7894904b354ddf43a75f2b6",
       "version_major": 2,
       "version_minor": 0
      },
      "text/plain": [
       "Resolving data files:   0%|          | 0/195 [00:00<?, ?it/s]"
      ]
     },
     "metadata": {},
     "output_type": "display_data"
    },
    {
     "data": {
      "application/vnd.jupyter.widget-view+json": {
       "model_id": "94219c4326d24e38a654a24b477848c3",
       "version_major": 2,
       "version_minor": 0
      },
      "text/plain": [
       "Resolving data files:   0%|          | 0/195 [00:00<?, ?it/s]"
      ]
     },
     "metadata": {},
     "output_type": "display_data"
    },
    {
     "data": {
      "application/vnd.jupyter.widget-view+json": {
       "model_id": "d420364cbc724e879b9760b5b5a8715a",
       "version_major": 2,
       "version_minor": 0
      },
      "text/plain": [
       "Loading dataset shards:   0%|          | 0/178 [00:00<?, ?it/s]"
      ]
     },
     "metadata": {},
     "output_type": "display_data"
    }
   ],
   "source": [
    "device = 'cuda:2'\n",
    "dataset = datasets.DatasetDict({\n",
    "    'train': datasets.load_dataset(\"danjacobellis/LSDIR\",split='train'),\n",
    "    'validation': datasets.load_dataset(\"danjacobellis/kodak\",split='validation')\n",
    "})\n",
    "config = SimpleNamespace()\n",
    "config.F = 16\n",
    "config.latent_dim = 48\n",
    "config.input_channels = 3\n",
    "config.encoder_depth = 4\n",
    "config.encoder_kernel_size = 1\n",
    "config.decoder_depth = 8\n",
    "config.lightweight_encode = True\n",
    "config.lightweight_decode = False\n",
    "config.freeze_encoder_after = 0.7\n",
    "config.λ = 3e-2\n",
    "config.epochs = 150\n",
    "config.batch_size = 4\n",
    "config.total_steps = config.epochs * (dataset['train'].num_rows // config.batch_size)\n",
    "config.min_aspect = 0.5\n",
    "config.max_aspect = 2\n",
    "config.min_size = 240\n",
    "config.max_size = 640\n",
    "config.min_scale = 1.0\n",
    "config.max_scale = 2.0\n",
    "config.max_lr = 3e-4\n",
    "config.min_lr = 1e-8\n",
    "config.lr_pow = 2\n",
    "config.num_workers = 12\n",
    "config.save_checkpoint_name = 'f16c48.pth'"
   ]
  },
  {
   "cell_type": "code",
   "execution_count": 3,
   "id": "693d160a-d756-45ab-9beb-c344a47b8472",
   "metadata": {},
   "outputs": [
    {
     "name": "stdout",
     "output_type": "stream",
     "text": [
      "76.581552\n"
     ]
    }
   ],
   "source": [
    "model = AutoCodecND(\n",
    "    dim=2,\n",
    "    input_channels=config.input_channels,\n",
    "    J = int(np.log2(config.F)),\n",
    "    latent_dim=config.latent_dim,\n",
    "    encoder_depth = config.encoder_depth,\n",
    "    encoder_kernel_size = config.encoder_kernel_size,\n",
    "    decoder_depth = config.decoder_depth,\n",
    "    lightweight_encode = config.lightweight_encode,\n",
    "    lightweight_decode = config.lightweight_decode,\n",
    ").to(device)\n",
    "\n",
    "optimizer = Adan(model.parameters(), lr=1.0)\n",
    "def rc_sched(i_step, config):\n",
    "    t = i_step / config.total_steps\n",
    "    return (config.max_lr - config.min_lr) * (1 - ((np.cos(np.pi*t))**(2*config.lr_pow))) + config.min_lr\n",
    "schedule = torch.optim.lr_scheduler.LambdaLR(\n",
    "    optimizer,\n",
    "    lr_lambda=lambda i_step: rc_sched(i_step, config)\n",
    ")\n",
    "print(sum(p.numel() for p in model.parameters())/1e6)"
   ]
  },
  {
   "cell_type": "code",
   "execution_count": 4,
   "id": "e157301b-03e6-4cd3-b648-9578f6159e97",
   "metadata": {},
   "outputs": [],
   "source": [
    "def train_collate_fn(batch):\n",
    "    aspect = np.random.uniform(config.min_aspect,config.max_aspect)\n",
    "    h = np.random.uniform(config.min_size,config.max_size); w = h*aspect;\n",
    "    h = int((config.F*(np.rint(h/config.F))).clip(config.min_size,config.max_size))\n",
    "    w = int((config.F*(np.rint(w/config.F))).clip(config.min_size,config.max_size))\n",
    "    x = []\n",
    "    for i_sample, sample in enumerate(batch):\n",
    "        transform = Compose([\n",
    "            Resize(\n",
    "                int(max(h,w)*np.random.uniform(config.min_scale,config.max_scale)),\n",
    "                interpolation=PIL.Image.Resampling.BICUBIC,\n",
    "                max_size=1+int(config.max_scale*config.max_size)\n",
    "            ),\n",
    "            RandomCrop((h,w),pad_if_needed=True,padding_mode='symmetric'),\n",
    "            ColorJitter(0.4,0.0,0.4,0.0),\n",
    "        ])\n",
    "        xi = pil_to_tensor(transform(sample['image'].convert(\"RGB\"))).unsqueeze(0)\n",
    "        x.append(xi)\n",
    "    x = torch.cat(x)\n",
    "    return x.to(torch.float)/127.5 - 1.0\n",
    "\n",
    "def enc_dec(sample):\n",
    "    img = sample['image']\n",
    "    buff = io.BytesIO()\n",
    "    x = pil_to_tensor(img).to(torch.float).to(device).unsqueeze(0)/127.5 - 1.0\n",
    "    t0 = time.time()\n",
    "    with torch.inference_mode():\n",
    "        z = model.encode(x)\n",
    "        z = model.quantize.compand(z).round()\n",
    "    latent_to_pil(z.cpu().detach(),n_bits=8,C=3)[0].save(buff, format='WEBP', lossless=True)\n",
    "    enc_time = time.time() - t0\n",
    "    size_bytes = len(buff.getbuffer())\n",
    "    t0 = time.time()\n",
    "    z = pil_to_latent([PIL.Image.open(buff)],N=config.latent_dim,n_bits=8,C=3).to(device)\n",
    "    with torch.inference_mode():\n",
    "        xhat = model.decode(z).clamp(-1,1)\n",
    "    dec_time = time.time() - t0\n",
    "    x_01 = x/2 + 0.5\n",
    "    xhat_01 = xhat/2 + 0.5\n",
    "    psnr = -10*torch.nn.functional.mse_loss(x_01, xhat_01).log10().item()\n",
    "    del sample['path']\n",
    "    del sample['image']\n",
    "    return{\n",
    "        'psnr': psnr,\n",
    "        'cr': x.numel()/size_bytes,\n",
    "        'enc': (x.numel()/3e6)/enc_time,\n",
    "        'dec': (x.numel()/3e6)/dec_time\n",
    "    }"
   ]
  },
  {
   "cell_type": "code",
   "execution_count": null,
   "id": "c7143c39-5012-42fb-b9a0-ff2f294648bc",
   "metadata": {},
   "outputs": [],
   "source": [
    "learning_rates = [optimizer.param_groups[0]['lr']]\n",
    "mb = fastprogress.master_bar(range(config.epochs))\n",
    "log_mse_losses = []\n",
    "rate_losses = []\n",
    "valid_metrics = []\n",
    "global_step = 0\n",
    "for i_epoch in mb:\n",
    "    model.train()\n",
    "    dataloader_train = torch.utils.data.DataLoader(\n",
    "            dataset['train'],\n",
    "            batch_size=config.batch_size,\n",
    "            num_workers=config.num_workers,\n",
    "            drop_last=True,\n",
    "            shuffle=True,\n",
    "            collate_fn=train_collate_fn\n",
    "        )\n",
    "    pb = fastprogress.progress_bar(dataloader_train, parent=mb)\n",
    "    for i_batch, x in enumerate(pb):\n",
    "        x = x.to(device)\n",
    "        if i_epoch/config.epochs <= config.freeze_encoder_after :\n",
    "            # Soft quantization with additive noise\n",
    "            x_hat, rate = model(x)\n",
    "        else:\n",
    "            # Hard quantization\n",
    "            with torch.no_grad():\n",
    "                z = model.quantize.compand(model.encode(x))\n",
    "                z_quant = z.round()\n",
    "            rate = z.std().log2()              \n",
    "            x_hat = model.decode(z_quant)\n",
    "\n",
    "        # Loss and optimizer\n",
    "        mse_loss = torch.nn.functional.mse_loss(x, x_hat).log10()\n",
    "        log_mse_losses.append(mse_loss.item())\n",
    "        rate_losses.append(rate.item())\n",
    "        total_loss = mse_loss + config.λ * rate\n",
    "        total_loss.backward()\n",
    "        optimizer.step()\n",
    "        optimizer.zero_grad()\n",
    "        schedule.step()\n",
    "        learning_rates.append(optimizer.param_groups[0]['lr'])\n",
    "        pb.comment = (f\"PSNR: {-10*log_mse_losses[-1]+6.02:.3g}, R: {rate:.2g}, LR: {learning_rates[-1]:.2g}\")\n",
    "        global_step += 1\n",
    "\n",
    "    valid = dataset['validation'].map(enc_dec)\n",
    "    valid_metrics.append({key: torch.tensor(valid[key]).mean().item() for key in valid.features.keys()})\n",
    "    mb.main_bar.comment = \";  \".join([f'{key}: {valid_metrics[-1][key]:0.4g}' for key in valid_metrics[-1]])\n",
    "    \n",
    "    torch.save({\n",
    "        'i_epoch': i_epoch,\n",
    "        'log_mse_losses': log_mse_losses,\n",
    "        'learning_rates': learning_rates,\n",
    "        'valid_metrics': {k: [d[k] for d in valid_metrics] for k in valid_metrics[0].keys()},\n",
    "        'config': config,\n",
    "        'state_dict': model.state_dict()\n",
    "    }, config.save_checkpoint_name)"
   ]
  },
  {
   "cell_type": "code",
   "execution_count": 6,
   "id": "07e4dba2-a908-4a5d-96b5-6287bc7551bf",
   "metadata": {},
   "outputs": [
    {
     "data": {
      "text/html": [
       "\n",
       "    <div>\n",
       "      <progress value='150' class='' max='150' style='width:300px; height:20px; vertical-align: middle;'></progress>\n",
       "      100.00% [150/150 79:06:11&lt;00:00 psnr: 31.25;  cr: 34.53;  enc: 35.16;  dec: 51.44]\n",
       "    </div>\n",
       "    "
      ],
      "text/plain": [
       "<IPython.core.display.HTML object>"
      ]
     },
     "metadata": {},
     "output_type": "display_data"
    },
    {
     "data": {
      "text/html": [
       "\n",
       "    <div>\n",
       "      <progress value='21247' class='' max='21247' style='width:300px; height:20px; vertical-align: middle;'></progress>\n",
       "      100.00% [21247/21247 27:21&lt;00:00 PSNR: 29.3, R: 2.3, LR: 1e-08]\n",
       "    </div>\n",
       "    "
      ],
      "text/plain": [
       "<IPython.core.display.HTML object>"
      ]
     },
     "metadata": {},
     "output_type": "display_data"
    },
    {
     "data": {
      "text/plain": [
       "(-4.0, -2.0)"
      ]
     },
     "execution_count": 6,
     "metadata": {},
     "output_type": "execute_result"
    },
    {
     "data": {
      "image/png": "[encoded data removed]",
      "text/plain": [
       "<Figure size 640x480 with 1 Axes>"
      ]
     },
     "metadata": {},
     "output_type": "display_data"
    }
   ],
   "source": [
    "display(IPython.display.HTML(mb.main_bar.progress))\n",
    "display(IPython.display.HTML(pb.progress))\n",
    "N = 501; plt.plot(np.convolve(log_mse_losses, N*[1/N], mode='valid'))\n",
    "plt.ylim([-4,-2])"
   ]
  },
  {
   "cell_type": "code",
   "execution_count": 7,
   "id": "2d9a5e84-d061-49e0-8771-c8d4f0a3beb0",
   "metadata": {},
   "outputs": [
    {
     "data": {
      "text/plain": [
       "tensor([31.2534, 34.5329, 35.1560, 51.4386])"
      ]
     },
     "execution_count": 7,
     "metadata": {},
     "output_type": "execute_result"
    }
   ],
   "source": [
    "torch.tensor(([[v[key] for key in v.keys()] for v in valid_metrics]))[-1]"
   ]
  },
  {
   "cell_type": "code",
   "execution_count": null,
   "id": "f1a641dc-74d5-4805-82ed-53099607ad64",
   "metadata": {},
   "outputs": [],
   "source": [
    "torch.save({\n",
    "    'valid_metrics': {k: [d[k] for d in valid_metrics] for k in valid_metrics[0].keys()},\n",
    "    'config': config,\n",
    "    'state_dict': model.state_dict()\n",
    "}, '../../../hf/liveaction/lsdir_f16c48.pth')"
   ]
  }
 ],
 "metadata": {
  "kernelspec": {
   "display_name": "g",
   "language": "python",
   "name": "g"
  },
  "language_info": {
   "codemirror_mode": {
    "name": "ipython",
    "version": 3
   },
   "file_extension": ".py",
   "mimetype": "text/x-python",
   "name": "python",
   "nbconvert_exporter": "python",
   "pygments_lexer": "ipython3",
   "version": "3.12.3"
  }
 },
 "nbformat": 4,
 "nbformat_minor": 5
}
