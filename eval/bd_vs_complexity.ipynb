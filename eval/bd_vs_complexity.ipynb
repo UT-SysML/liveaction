{
 "cells": [
  {
   "cell_type": "markdown",
   "id": "02d2acd6-ec1b-4e8e-9678-06e2808c58ea",
   "metadata": {},
   "source": [
    "| model  | analysis (cpu) | ent. code (cpu) | ent. decode (cpu) | synthesis (cpu) | tot. encode (cpu) | tot. decode (cpu) | analysis (gpu) | synthesis (gpu) | overall encode (gpu) | overall decode (gpu) |\n",
    "|--------|----------------|-----------------|-------------------|-----------------|-------------------|-------------------|----------------|-----------------|----------------------|----------------------|\n",
    "| f16c48 | 8.9944         | 14.273          | 217.46            | 0.72145         | 11.035            | 1.4381            | 197.62         | 181.24          | 26.764               | 193.50               |"
   ]
  },
  {
   "cell_type": "code",
   "execution_count": null,
   "id": "932d22b0-cb3f-4762-815f-cc47e4f133c0",
   "metadata": {},
   "outputs": [],
   "source": [
    "import matplotlib.pyplot as plt, numpy as np\n",
    "\n",
    "encoders = [\"JPEG 2000 (CPU)\", \"Cosmos\", \"WaLLoC\", \"LiVeAction\"]\n",
    "throughput = [6.333, 60.636311992972374, 71.26897016757488, 87.23041747555288]\n",
    "bd_rate = [0, -29.9439, -57.5230, -70.0758]\n",
    "# sizes = 100*np.array([0.001, 32.306181952714375, 0.036912, 0.123264])\n",
    "sizes = 200*np.array([0.05, 32.306181952714375, 0.05, 0.123264])\n",
    "\n",
    "plt.figure(figsize=(4, 3), dpi=180)\n",
    "\n",
    "for i in range(4):\n",
    "    plt.scatter(throughput[i], bd_rate[i], s=sizes[i])\n",
    "\n",
    "for i, label in enumerate(encoders):\n",
    "    if i == 0:\n",
    "        plt.text(8, -3, label, fontsize=9)\n",
    "    elif i ==1:\n",
    "        plt.text(55, -32, label, fontsize=9)\n",
    "        plt.text(51, -27, '32M Params.', fontsize=9)\n",
    "    elif i ==2:\n",
    "        plt.text(73, -54, label, fontsize=9)\n",
    "        plt.text(70, -49, '37K Params.', fontsize=9)\n",
    "    elif i ==3:\n",
    "        plt.text(65, -68, label, fontsize=9)\n",
    "        plt.text(63, -63, '123K Params.', fontsize=9)\n",
    "    \n",
    "plt.xlabel(\"Encoder throughput [megapixels/second]\")\n",
    "plt.ylabel(\"BD-rate vs JPEG 2000 [%]\")\n",
    "plt.title(\"Encoder throughput vs BD-rate\")\n",
    "plt.xlim([0,95])\n",
    "plt.grid(True, linestyle='--', alpha=0.7)\n",
    "plt.tight_layout()\n",
    "plt.gca().invert_yaxis()\n",
    "plt.savefig('tp_vs_bd.svg')"
   ]
  }
 ],
 "metadata": {
  "kernelspec": {
   "display_name": "Python 3 (ipykernel)",
   "language": "python",
   "name": "python3"
  },
  "language_info": {
   "codemirror_mode": {
    "name": "ipython",
    "version": 3
   },
   "file_extension": ".py",
   "mimetype": "text/x-python",
   "name": "python",
   "nbconvert_exporter": "python",
   "pygments_lexer": "ipython3",
   "version": "3.10.12"
  }
 },
 "nbformat": 4,
 "nbformat_minor": 5
}
