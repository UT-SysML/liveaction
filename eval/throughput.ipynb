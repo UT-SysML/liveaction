{
 "cells": [
  {
   "cell_type": "code",
   "execution_count": 1,
   "id": "2d369286-ad13-46e4-b5a9-dbcfda31acce",
   "metadata": {},
   "outputs": [
    {
     "data": {
      "application/vnd.jupyter.widget-view+json": {
       "model_id": "2ea5448effbb4443adb85e88ce020142",
       "version_major": 2,
       "version_minor": 0
      },
      "text/plain": [
       "Fetching 7 files:   0%|          | 0/7 [00:00<?, ?it/s]"
      ]
     },
     "metadata": {},
     "output_type": "display_data"
    },
    {
     "name": "stderr",
     "output_type": "stream",
     "text": [
      "/home/dgj335/.local/lib/python3.11/site-packages/torchvision/models/_utils.py:208: UserWarning: The parameter 'pretrained' is deprecated since 0.13 and may be removed in the future, please use 'weights' instead.\n",
      "  warnings.warn(\n",
      "/home/dgj335/.local/lib/python3.11/site-packages/torchvision/models/_utils.py:223: UserWarning: Arguments other than a weight enum or `None` for 'weights' are deprecated since 0.13 and may be removed in the future. The current behavior is equivalent to passing `weights=VGG16_Weights.IMAGENET1K_V1`. You can also use `weights=VGG16_Weights.DEFAULT` to get the most up-to-date weights.\n",
      "  warnings.warn(msg)\n"
     ]
    },
    {
     "name": "stdout",
     "output_type": "stream",
     "text": [
      "32.261254\n"
     ]
    }
   ],
   "source": [
    "import torch, io, datasets, PIL.Image,  numpy as np, time\n",
    "from huggingface_hub import snapshot_download\n",
    "from types import SimpleNamespace\n",
    "from piq import LPIPS, DISTS, SSIMLoss\n",
    "from torchvision.transforms.v2.functional import to_pil_image, pil_to_tensor\n",
    "from cosmos_tokenizer.image_lib import ImageTokenizer\n",
    "\n",
    "dataset = datasets.load_dataset(\"danjacobellis/kodak\")\n",
    "model_path = snapshot_download(repo_id='nvidia/Cosmos-Tokenizer-DI8x8')\n",
    "encoder = ImageTokenizer(checkpoint_enc=f'{model_path}/encoder.jit')\n",
    "decoder = ImageTokenizer(checkpoint_dec=f'{model_path}/decoder.jit')\n",
    "\n",
    "lpips_loss = LPIPS()\n",
    "dists_loss = DISTS()\n",
    "ssim_loss = SSIMLoss()\n",
    "print(sum( p.numel() for p in encoder.parameters())/1e6)"
   ]
  },
  {
   "cell_type": "code",
   "execution_count": 2,
   "id": "522b1fc4-05ed-4684-94d7-088e9a4e900d",
   "metadata": {},
   "outputs": [],
   "source": [
    "def evaluate_throughput(sample, device='cuda', dtype=torch.bfloat16):\n",
    "    encoder.to(device)\n",
    "    decoder.to(device)\n",
    "    img = sample['image']\n",
    "    img = img.resize((int(2.5*img.size[0]),int(2.5*img.size[1]))) # 1080p\n",
    "    x_orig = pil_to_tensor(img).to(device).unsqueeze(0).to(dtype) / 127.5 - 1.0\n",
    "    orig_size = tuple(x_orig.shape[-2:])\n",
    "    orig_dim = x_orig.numel() \n",
    "    \n",
    "    # analysis transform\n",
    "    t0 = time.time()\n",
    "    with torch.no_grad():\n",
    "        z = encoder.encode(x_orig)[0]\n",
    "    analysis_time = time.time() - t0\n",
    "    \n",
    "    # entropy coding\n",
    "    t0 = time.time()\n",
    "    torch.save(z,'tmp.pth')\n",
    "    entropy_code_time = time.time() - t0\n",
    "    \n",
    "    # entropy decoding\n",
    "    t0 = time.time()\n",
    "    z = torch.load('tmp.pth')\n",
    "    entropy_decode_time = time.time() - t0\n",
    "    \n",
    "    # synthesis transform\n",
    "    t0 = time.time()\n",
    "    with torch.no_grad():\n",
    "        x_hat = decoder.decode(z).to(torch.float).clamp(-1,1)\n",
    "    synthesis_time = time.time() - t0\n",
    "\n",
    "    return {\n",
    "        'analysis_time': analysis_time,\n",
    "        'entropy_code_time': entropy_code_time,\n",
    "        'entropy_decode_time': entropy_decode_time,\n",
    "        'synthesis_time': synthesis_time,\n",
    "    }"
   ]
  },
  {
   "cell_type": "code",
   "execution_count": 3,
   "id": "d5ddeb3b-053b-4beb-8463-eb08c3fc319d",
   "metadata": {},
   "outputs": [
    {
     "name": "stderr",
     "output_type": "stream",
     "text": [
      "Parameter 'function'=<function <lambda> at 0x7dd234376de0> of the transform datasets.arrow_dataset.Dataset._map_single couldn't be hashed properly, a random hash was used instead. Make sure your transforms and parameters are serializable with pickle or dill for the dataset fingerprinting and caching to work. If you reuse this transform, the caching mechanism will consider it to be different from the previous calls and recompute everything. This warning is only showed once. Subsequent hashing failures won't be showed.\n"
     ]
    },
    {
     "data": {
      "application/vnd.jupyter.widget-view+json": {
       "model_id": "8dac6ce771ec4340a73bcd1f2c5d7433",
       "version_major": 2,
       "version_minor": 0
      },
      "text/plain": [
       "Map:   0%|          | 0/24 [00:00<?, ? examples/s]"
      ]
     },
     "metadata": {},
     "output_type": "display_data"
    },
    {
     "name": "stdout",
     "output_type": "stream",
     "text": [
      "mean\n",
      "---\n",
      "14.866209758584366\n",
      "4959.735080207195\n",
      "5801.106402801401\n",
      "11.253463645003372\n",
      "29.643566489678058\n",
      "22.463351032885953\n"
     ]
    }
   ],
   "source": [
    "for (device,dtype) in [('cuda',torch.bfloat16)]:\n",
    "    results_dataset = dataset['validation'].map(lambda s: evaluate_throughput(s,device=device, dtype=dtype))\n",
    "    print(\"mean\\n---\")\n",
    "    for metric in [\n",
    "        'analysis_time',\n",
    "        'entropy_code_time',\n",
    "        'entropy_decode_time',\n",
    "        'synthesis_time',\n",
    "    ]:\n",
    "        μ = 1920*1080e-6/np.mean(results_dataset[metric])\n",
    "        print(μ)\n",
    "    print(1920*1080e-6/np.mean(results_dataset['analysis_time']+results_dataset['entropy_code_time']))\n",
    "    print(1920*1080e-6/np.mean(results_dataset['entropy_decode_time']+results_dataset['synthesis_time']))"
   ]
  }
 ],
 "metadata": {
  "kernelspec": {
   "display_name": "Python 3.11",
   "language": "python",
   "name": "python3.11"
  },
  "language_info": {
   "codemirror_mode": {
    "name": "ipython",
    "version": 3
   },
   "file_extension": ".py",
   "mimetype": "text/x-python",
   "name": "python",
   "nbconvert_exporter": "python",
   "pygments_lexer": "ipython3",
   "version": "3.11.0rc1"
  }
 },
 "nbformat": 4,
 "nbformat_minor": 5
}
