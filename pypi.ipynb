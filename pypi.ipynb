{
 "cells": [
  {
   "cell_type": "code",
   "execution_count": null,
   "id": "fb65f1f8-a553-4eff-9d12-0dea29163ed4",
   "metadata": {},
   "outputs": [],
   "source": [
    "!rm -rf dist/"
   ]
  },
  {
   "cell_type": "code",
   "execution_count": null,
   "id": "02267cda-db9e-4461-878e-17e419348107",
   "metadata": {},
   "outputs": [],
   "source": [
    "!python3 -m build"
   ]
  },
  {
   "cell_type": "code",
   "execution_count": null,
   "id": "939498da-b450-4287-8ae0-4f77f6749de6",
   "metadata": {},
   "outputs": [],
   "source": [
    "!twine upload dist/*"
   ]
  },
  {
   "cell_type": "code",
   "execution_count": null,
   "id": "c826f15c-6598-4d65-a7c5-a8d03f71e8d1",
   "metadata": {},
   "outputs": [],
   "source": [
    "!pip install --upgrade livecodec"
   ]
  }
 ],
 "metadata": {
  "kernelspec": {
   "display_name": "Python 3 (ipykernel)",
   "language": "python",
   "name": "python3"
  },
  "language_info": {
   "codemirror_mode": {
    "name": "ipython",
    "version": 3
   },
   "file_extension": ".py",
   "mimetype": "text/x-python",
   "name": "python",
   "nbconvert_exporter": "python",
   "pygments_lexer": "ipython3",
   "version": "3.12.3"
  }
 },
 "nbformat": 4,
 "nbformat_minor": 5
}
